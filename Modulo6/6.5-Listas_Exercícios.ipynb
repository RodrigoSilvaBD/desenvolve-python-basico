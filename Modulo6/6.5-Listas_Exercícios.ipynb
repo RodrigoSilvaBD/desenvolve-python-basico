{
 "cells": [
  {
   "cell_type": "markdown",
   "id": "0d5035b5",
   "metadata": {},
   "source": [
    "# Listas\n",
    "\n",
    "## Aulas 6.1 a 6.5 "
   ]
  },
  {
   "cell_type": "markdown",
   "id": "0bdece85",
   "metadata": {},
   "source": [
    "### Q1. \n",
    "\n",
    "Usando a função embutida ```map``` e criando uma função ```lambda```, transforme uma lista com os raios de múltiplas circunferências em uma nova lista com as respectivas áreas. O cálculo de cada área é dado por: ```pi*(raio**2)```\n",
    "- Use a constante pi da biblioteca math \n",
    "- Arredonde o resultado para 2 casas decimais\n"
   ]
  },
  {
   "cell_type": "code",
   "execution_count": 1,
   "id": "0a258eba",
   "metadata": {},
   "outputs": [
    {
     "name": "stdout",
     "output_type": "stream",
     "text": [
      "[7.07, 2.01, 16.62, 78.54]\n"
     ]
    }
   ],
   "source": [
    "## Complete a solução\n",
    "\n",
    "raios = [1.5, 0.8, 2.3, 5.0]\n",
    "\n",
    "## Complete a solução\n",
    "import math\n",
    "areas = list(map(lambda r: round(math.pi*(r**2), 2), raios,))\n",
    "\n",
    "print(areas)\n",
    "\n"
   ]
  },
  {
   "cell_type": "markdown",
   "id": "649a5082",
   "metadata": {},
   "source": [
    "### Q2. \n",
    "\n",
    "Crie uma função customizada e aplique a função embutida ```filter``` para operar em uma lista de listas contendo os lados de múltiplos triângulos. Construa uma nova lista contendo apenas os triângulos equiláteros, ou seja, com os três lados iguais.\n"
   ]
  },
  {
   "cell_type": "code",
   "execution_count": 2,
   "id": "47cb0573",
   "metadata": {},
   "outputs": [
    {
     "name": "stdout",
     "output_type": "stream",
     "text": [
      "[[2, 2, 2], [4, 4, 4]]\n"
     ]
    }
   ],
   "source": [
    "## Crie a função customizada\n",
    "def testa_equilatero(t):\n",
    "    if t[0] == t[1] and t[1] == t[2]:\n",
    "        return True\n",
    "    return False\n",
    "    ### \n",
    "\n",
    "### Usando filter, aplique a função customizada aos seguintes triangulos\n",
    "triangulos  = [[2,2,2], [3,4,5], [3,2,2],[4,4,4]]\n",
    "equilateros = list(filter(testa_equilatero, triangulos))\n",
    "print (equilateros)\n"
   ]
  },
  {
   "cell_type": "markdown",
   "id": "bb62d219",
   "metadata": {},
   "source": [
    "### Q3. \n",
    "Crie uma função chamada ```ordena_por_comprimento``` que aceite uma lista de strings e a ordene com base no comprimento das strings, do menor para o maior. Utilize a função ```sorte``` e uma expressão ```lambda```."
   ]
  },
  {
   "cell_type": "code",
   "execution_count": null,
   "id": "add41556",
   "metadata": {},
   "outputs": [],
   "source": [
    "### crie a função ordena_por_comprimento e retorne a lista resultado\n",
    "def ordena_por_comprimento(list):\n",
    "    return sorted(list, key =lambda x: len(x))\n",
    "\n",
    "### aplique sua função à seguinte lista e imprima o resultado\n",
    "nomes = [\"Joao\", \"Maria\", \"Jose\", \"Gabriela\", \"Sol\", \"Luna\", \"Bento\", \"Enzo\", \"Fernanda\"]\n",
    "nomes_ord = ordena_por_comprimento(nomes)\n",
    "print(nomes_ord)\n"
   ]
  },
  {
   "cell_type": "markdown",
   "id": "8710b1a7",
   "metadata": {},
   "source": [
    "### Q4.\n",
    "\n",
    "Crie uma lista de listas (uma matriz de 2 dimensões) de tamanho $n \\times n$, com $n$ dado pelo usuário. Cada elemento da matriz deve ser o produto dos índices da linha pela coluna.\n",
    "\n",
    "Exemplo:\n",
    "```\n",
    "Digite n: 4\n",
    "Matriz:\n",
    "[[0, 0, 0, 0],\n",
    " [0, 1, 2, 3],\n",
    " [0, 2, 4, 6],\n",
    " [0, 3, 6, 9]]\n",
    "```"
   ]
  },
  {
   "cell_type": "code",
   "execution_count": null,
   "id": "0b7ee921",
   "metadata": {},
   "outputs": [],
   "source": [
    "# Implemente sua solução aqui\n",
    "def criar_matriz(n):\n",
    "    matriz = [[x * y for y in range (n)] for x in range(n)]\n",
    "    return matriz\n",
    "\n",
    "n = int(input(\"Digite o tamanho da matriz com um numero inteiro: \"))\n",
    "\n",
    "matriz = criar_matriz(n)\n",
    "print (f\"Matriz de {n} é:\")\n",
    "for linha in matriz:\n",
    "    print(linha)"
   ]
  },
  {
   "cell_type": "markdown",
   "id": "f41781df",
   "metadata": {},
   "source": [
    "### Q5.\n",
    "\n",
    "Dada uma lista de números inteiros, implemente uma função em Python chamada ```pares_unicos``` que encontre e retorne todos os pares únicos de elementos na lista cuja soma seja igual a um determinado valor. Considere que a ordem dos pares não é relevante."
   ]
  },
  {
   "cell_type": "code",
   "execution_count": 3,
   "id": "7a76f765",
   "metadata": {},
   "outputs": [
    {
     "name": "stdout",
     "output_type": "stream",
     "text": [
      "Pares que a soma é igual a 10, são: [(3, 7), (4, 6)]\n"
     ]
    }
   ],
   "source": [
    "def pares_unicos(lista, soma_desejada):\n",
    "    pares = set()\n",
    "    verificados = set()\n",
    "\n",
    "    for numero in lista:\n",
    "        complemento = soma_desejada - numero\n",
    "        if complemento in verificados:\n",
    "            par = tuple(sorted((numero, complemento)))\n",
    "            pares.add(par)\n",
    "        verificados.add(numero)\n",
    "    return list(pares)\n",
    "\n",
    "\n",
    "lista = [3, 4, 5, 6, 7]\n",
    "soma_desejada = 10\n",
    "resultado = pares_unicos(lista, soma_desejada)\n",
    "print(f\"Pares que a soma é igual a {soma_desejada}, são: {resultado}\")"
   ]
  },
  {
   "cell_type": "markdown",
   "id": "87e44893",
   "metadata": {},
   "source": [
    "### Q5.\n",
    "\n",
    "Escreva um programa para encontrar a diferença entre duas listas, incluindo elementos duplicados.\n",
    "\n",
    "Ex:\n",
    "```\n",
    "Listas originais: \n",
    "[1, 1, 2, 3, 3, 4, 4, 5, 6, 7]\n",
    "[1, 1, 2, 4, 5, 6]\n",
    "Diferença entre as listas:\n",
    "[3, 3, 4, 7]\n",
    "```"
   ]
  },
  {
   "cell_type": "code",
   "execution_count": 1,
   "id": "7edc027c",
   "metadata": {},
   "outputs": [
    {
     "name": "stdout",
     "output_type": "stream",
     "text": [
      "Digite os elementos da primeira lista separados por espaço: 2 3 4 5 6\n",
      "Digite os elementos da segunda lista separados por espaço: 6 7 8 9 2 3\n",
      "Diferença entre as duas listas (incluindo duplicados): ['4', '5', '7', '8', '9']\n"
     ]
    }
   ],
   "source": [
    "# Implemente sua solução aqui\n",
    "from collections import Counter\n",
    "\n",
    "lista1 = input(\"Digite os elementos da primeira lista separados por espaço: \").split()\n",
    "lista2 = input(\"Digite os elementos da segunda lista separados por espaço: \").split()\n",
    "\n",
    "# Contar as ocorrências dos elementos em ambas as listas\n",
    "contador1 = Counter(lista1)\n",
    "contador2 = Counter(lista2)\n",
    "\n",
    "diferenca1 = contador1 - contador2  \n",
    "diferenca2 = contador2 - contador1  \n",
    "\n",
    "diferenca = list(diferenca1.elements()) + list(diferenca2.elements())\n",
    "\n",
    "print(f\"Diferença entre as duas listas (incluindo duplicados): {diferenca}\")"
   ]
  },
  {
   "cell_type": "markdown",
   "id": "f4c4236d",
   "metadata": {},
   "source": [
    "### Q6.\n",
    "\n",
    "Dada uma lista aleatória, escreva um programa que separa os valores em listas menores de acordo com o tamanho solicitado. Caso não seja possível repartir igualmente a lista original, a última sublista deve conter os elementos remanescentes, como indicado no exemplo a seguir.\n",
    "\n",
    "Note que seu programa deve continuar executando em um laço infinito até que o usuário informe o tamanho 0 na entrada solicitada.\n",
    "\n",
    "```\n",
    "Lista original:\n",
    "[12, 45, 23, 67, 78, 90, 45, 32, 100, 76, 38, 62, 73, 29, 83]\n",
    "\n",
    "Tamanho para divisão: 3\n",
    "Subslistas:\n",
    "[[12, 45, 23], [67, 78, 90], [45, 32, 100], [76, 38, 62], [73, 29, 83]]\n",
    "\n",
    "Tamanho para divisão: 4\n",
    "Subslistas: [[12, 45, 23, 67], [78, 90, 45, 32], [100, 76, 38, 62], [73, 29, 83]]\n",
    "\n",
    "Tamanho para divisão: 0\n",
    "```"
   ]
  },
  {
   "cell_type": "code",
   "execution_count": 6,
   "id": "792563de",
   "metadata": {},
   "outputs": [
    {
     "name": "stdout",
     "output_type": "stream",
     "text": [
      "[94, 97, 72, 69, 79, 97, 54, 27, 65, 64, 92, 40, 13, 95, 82, 82, 76, 12, 97, 21]\n",
      "Digite o tamanho para divisão: 4\n",
      "Subslistas: [[94, 97, 72, 69], [79, 97, 54, 27], [65, 64, 92, 40], [13, 95, 82, 82], [76, 12, 97, 21]]\n",
      "Digite o tamanho para divisão: 3\n",
      "Subslistas: [[94, 97, 72], [69, 79, 97], [54, 27, 65], [64, 92, 40], [13, 95, 82], [82, 76, 12], [97, 21]]\n",
      "Digite o tamanho para divisão: 0\n",
      "tamanho para divisão: 0\n"
     ]
    }
   ],
   "source": [
    "\n",
    "\n",
    "# Implemente sua solução aqui\n",
    "def dividir_lista(lista, tamanho_sublista):\n",
    "    sublistas = [lista[i:i + tamanho_sublista] for i in range(0, len(lista), tamanho_sublista)]\n",
    "    return sublistas\n",
    "\n",
    "\n",
    "import random\n",
    "lista_original = [random.randint(1,100) for i in range(20)]\n",
    "#lista_original = [12, 45, 23, 67, 78, 90, 45, 32, 100, 76, 38, 62, 73, 29, 83]\n",
    "print(lista_original)\n",
    "while True:\n",
    "\n",
    "    tamanho = int(input(\"Digite o tamanho para divisão: \"))\n",
    "    if tamanho == 0:\n",
    "        print(f\"tamanho para divisão: {tamanho}\") \n",
    "        break\n",
    "\n",
    "    sublistas = dividir_lista(lista_original, tamanho)\n",
    "    print(\"Subslistas:\", sublistas)"
   ]
  },
  {
   "cell_type": "markdown",
   "id": "c65be32f",
   "metadata": {},
   "source": [
    "### Q7.\n",
    "\n",
    "Você está desenvolvendo um programa para determinar o vencedor de um jogo da velha. Escreva uma função ```avalia_tabuleiro()``` que recebe uma lista representando o estado atual do tabuleiro e determina se há um vencedor. \n",
    "\n",
    "A lista terá 3 sublistas, cada uma representando uma linha do tabuleiro. Cada elemento das sublistas pode ser 'X', 'O' ou vazio (' ').\n",
    "\n",
    "O programa deve imprimir o vencedor ('X', 'O'), se houver um, ou \"Empate\" se não houver vencedor. Um vencedor é determinado se houver três 'X' ou três 'O' em linha (horizontal, vertical ou diagonal).\n",
    "\n",
    "Exemplo:\n",
    "```python\n",
    "tabuleiro = [\n",
    "    ['X', 'O', 'X'],\n",
    "    [' ', 'X', 'O'],\n",
    "    ['O', ' ', 'O']\n",
    "]\n",
    "```\n",
    "O resultado seria \"Empate\", pois não há um vencedor no exemplo fornecido. \n",
    "\n",
    "Exemplo 2:\n",
    "```python\n",
    "tabuleiro = [\n",
    "    ['O', 'X', 'O'],\n",
    "    ['X', 'O', 'X'],\n",
    "    ['X', ' ', 'O']\n",
    "]\n",
    "```\n",
    "O resultado seria \"O\", pois 'O' venceu na diagonal central."
   ]
  },
  {
   "cell_type": "code",
   "execution_count": null,
   "id": "720ca24d",
   "metadata": {},
   "outputs": [],
   "source": [
    "### Escreva a função avalia_tabuleiro()\n",
    "\n",
    "\n",
    "def avalia_tabuleiro(tabuleiro):\n",
    "\n",
    "    for i in range(3):\n",
    "        if tabuleiro[i][0] == tabuleiro[i][1] == tabuleiro[i][2] != ' ':\n",
    "            return tabuleiro[i][0]\n",
    "        if tabuleiro[0][i] == tabuleiro[1][i] == tabuleiro[2][i] != ' ':\n",
    "            return tabuleiro[0][i]\n",
    "    \n",
    "    if tabuleiro[0][0] == tabuleiro[1][1] == tabuleiro[2][2] != ' ':\n",
    "        return tabuleiro[0][0]\n",
    "    if tabuleiro[0][2] == tabuleiro[1][1] == tabuleiro[2][0] != ' ':\n",
    "        return tabuleiro[0][2]\n",
    "    \n",
    "  \n",
    "    if all(cell != ' ' for row in tabuleiro for cell in row):\n",
    "        return \"Empate\"\n",
    "    \n",
    "    return \"Jogo não terminado\"\n",
    "\n",
    "\n",
    "print(avalia_tabuleiro([\n",
    "    ['X', 'O', 'X'],\n",
    "    [' ', 'X', 'O'],\n",
    "    ['O', ' ', 'O']\n",
    "])) \n",
    "\n",
    "print(avalia_tabuleiro([\n",
    "    ['O', 'X', 'O'],\n",
    "    ['X', 'O', 'X'],\n",
    "    ['X', ' ', 'O']\n",
    "])) \n",
    "\n",
    "print(avalia_tabuleiro([\n",
    "    ['X', 'O', 'X'],\n",
    "    ['O', 'X', 'O'],\n",
    "    ['X', 'O', 'X']\n",
    "]))  \n",
    "\n",
    "\n",
    "### teste a função nos seguintes tabuleiros\n",
    "\n",
    "tabuleiro1 = [\n",
    "    ['X', 'O', 'X'],\n",
    "    [' ', 'X', 'O'],\n",
    "    ['O', ' ', 'X']\n",
    "]\n",
    "\n",
    "tabuleiro2 = [\n",
    "    ['X', 'O', 'O'],\n",
    "    ['X', 'X', 'O'],\n",
    "    ['X', 'O', 'X']\n",
    "]\n",
    "\n",
    "tabuleiro3 = [\n",
    "    [' ', ' ', ' '],\n",
    "    ['X', ' ', 'O'],\n",
    "    ['O', 'X', 'X']\n",
    "]\n",
    "\n",
    "tabuleiro4 = [\n",
    "    ['O', 'O', 'O'],\n",
    "    ['X', ' ', 'X'],\n",
    "    ['O', 'X', 'X']\n",
    "]\n",
    "\n",
    "tabuleiro5 = [\n",
    "    ['X', 'X', 'O'],\n",
    "    ['X', ' ', 'O'],\n",
    "    ['O', 'O', 'X']\n",
    "]"
   ]
  }
 ],
 "metadata": {
  "kernelspec": {
   "display_name": "Python 3 (ipykernel)",
   "language": "python",
   "name": "python3"
  },
  "language_info": {
   "codemirror_mode": {
    "name": "ipython",
    "version": 3
   },
   "file_extension": ".py",
   "mimetype": "text/x-python",
   "name": "python",
   "nbconvert_exporter": "python",
   "pygments_lexer": "ipython3",
   "version": "3.11.6"
  }
 },
 "nbformat": 4,
 "nbformat_minor": 5
}
